{
 "cells": [
  {
   "cell_type": "code",
   "execution_count": 59,
   "metadata": {},
   "outputs": [],
   "source": [
    "def numsys(num: 'int', base: 'int') -> 'str':\n",
    "    a=num\n",
    "    print(a)\n",
    "    b=base\n",
    "    print(b)\n",
    "    x=\"\"\n",
    "    while a>0:\n",
    "        c=int(48+a%b)\n",
    "        if a%b>9: c+=7\n",
    "        print('c = 48+a%b=', c)\n",
    "        print('chr(c)=', chr(c))\n",
    "        x = chr(c) + x\n",
    "        print(\"x=\", x)\n",
    "        a=a//b\n",
    "        print(\"a=\", a)\n",
    "    print(x)       \n"
   ]
  },
  {
   "cell_type": "code",
   "execution_count": 63,
   "metadata": {
    "scrolled": false
   },
   "outputs": [
    {
     "name": "stdout",
     "output_type": "stream",
     "text": [
      "44027\n",
      "36\n",
      "c = 48+a%b= 90\n",
      "chr(c)= Z\n",
      "x= Z\n",
      "a= 1222\n",
      "c = 48+a%b= 89\n",
      "chr(c)= Y\n",
      "x= YZ\n",
      "a= 33\n",
      "c = 48+a%b= 88\n",
      "chr(c)= X\n",
      "x= XYZ\n",
      "a= 0\n",
      "XYZ\n"
     ]
    }
   ],
   "source": [
    "numsys(44027, 36)\n"
   ]
  },
  {
   "cell_type": "code",
   "execution_count": 58,
   "metadata": {},
   "outputs": [
    {
     "name": "stdout",
     "output_type": "stream",
     "text": [
      "48 0\n",
      "49 1\n",
      "50 2\n",
      "51 3\n",
      "52 4\n",
      "53 5\n",
      "54 6\n",
      "55 7\n",
      "56 8\n",
      "57 9\n",
      "58 :\n",
      "59 ;\n",
      "60 <\n",
      "61 =\n",
      "62 >\n",
      "63 ?\n",
      "64 @\n",
      "65 A\n",
      "66 B\n",
      "67 C\n",
      "68 D\n",
      "69 E\n"
     ]
    }
   ],
   "source": [
    "for i in range (48, 70):\n",
    "    print(i, chr(i))\n",
    "    i+=1"
   ]
  }
 ],
 "metadata": {
  "kernelspec": {
   "display_name": "Python 3",
   "language": "python",
   "name": "python3"
  },
  "language_info": {
   "codemirror_mode": {
    "name": "ipython",
    "version": 3
   },
   "file_extension": ".py",
   "mimetype": "text/x-python",
   "name": "python",
   "nbconvert_exporter": "python",
   "pygments_lexer": "ipython3",
   "version": "3.7.1rc1"
  }
 },
 "nbformat": 4,
 "nbformat_minor": 2
}
