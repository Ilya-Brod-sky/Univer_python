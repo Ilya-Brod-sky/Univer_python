{
 "cells": [
  {
   "cell_type": "code",
   "execution_count": 8,
   "metadata": {},
   "outputs": [],
   "source": [
    "def numsys(num: 'int', base: 'int') -> 'str':\n",
    "    a = num\n",
    "    b = base\n",
    "    x = \"\"\n",
    "    \n",
    "    while a > 0:\n",
    "        c = int(48+a%b) # c is a code number of a symbol.\n",
    "        if a % b > 9: c+=7 # +7 because ord('9') = 57 and ord('A') = 65, so the difference is (7+1). 1 is for the next symbol.\n",
    "        x = chr(c) + x # We make \"x\" starting from the rightest symbol and moving left.\n",
    "        a = a//b\n",
    "    return(x)       \n",
    " "
   ]
  },
  {
   "cell_type": "code",
   "execution_count": 9,
   "metadata": {
    "scrolled": false
   },
   "outputs": [
    {
     "data": {
      "text/plain": [
       "'XYZ'"
      ]
     },
     "execution_count": 9,
     "metadata": {},
     "output_type": "execute_result"
    }
   ],
   "source": [
    "numsys(44027, 36)"
   ]
  }
 ],
 "metadata": {
  "kernelspec": {
   "display_name": "Python 3",
   "language": "python",
   "name": "python3"
  },
  "language_info": {
   "codemirror_mode": {
    "name": "ipython",
    "version": 3
   },
   "file_extension": ".py",
   "mimetype": "text/x-python",
   "name": "python",
   "nbconvert_exporter": "python",
   "pygments_lexer": "ipython3",
   "version": "3.7.1rc1"
  }
 },
 "nbformat": 4,
 "nbformat_minor": 2
}
