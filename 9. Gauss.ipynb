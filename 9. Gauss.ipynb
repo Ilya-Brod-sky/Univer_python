{
 "cells": [
  {
   "cell_type": "code",
   "execution_count": 45,
   "metadata": {},
   "outputs": [],
   "source": [
    "import numpy\n",
    "import copy\n",
    "\n",
    "def gauss_1(a: 'ndarray', b: 'ndarray', i: 'int', j: 'int'):\n",
    "    c = numpy.array(a[0].copy())\n",
    "    k = a[i][j]/a[0][j]\n",
    "    for p in range(len(c)):\n",
    "        c[p] *= k\n",
    "    for p in range(j, len(a[1])):\n",
    "                   a[i][p] -= c[p]\n",
    "    b[i] -= k*b[0]\n",
    "    \n",
    "    \n",
    "def gauss_2(a: 'ndarray', b: 'ndarray'):\n",
    "    x = []\n",
    "    for i in range(len(b-1)):\n",
    "        x.append([])\n",
    "    for i in range(len(x)-1, -1, -1):\n",
    "    return(x)"
   ]
  },
  {
   "cell_type": "code",
   "execution_count": 48,
   "metadata": {
    "scrolled": false
   },
   "outputs": [
    {
     "name": "stdout",
     "output_type": "stream",
     "text": [
      "4\n"
     ]
    }
   ],
   "source": [
    "a = numpy.array([\n",
    "    [1,2,3,4],\n",
    "    [3,10,5,7],\n",
    "    [4,9,21,49],\n",
    "    [55,24,68,95]\n",
    "])\n",
    "\n",
    "b = numpy.array([26,42,49,77])\n",
    "    \n",
    "for j in range(0, lenght-1):\n",
    "    for i in range(j+1, len(a)):\n",
    "        gauss_1(a, b, i, j)\n",
    "x = gauss_2(a, b)\n"
   ]
  }
 ],
 "metadata": {
  "kernelspec": {
   "display_name": "Python 3",
   "language": "python",
   "name": "python3"
  },
  "language_info": {
   "codemirror_mode": {
    "name": "ipython",
    "version": 3
   },
   "file_extension": ".py",
   "mimetype": "text/x-python",
   "name": "python",
   "nbconvert_exporter": "python",
   "pygments_lexer": "ipython3",
   "version": "3.7.1rc1"
  }
 },
 "nbformat": 4,
 "nbformat_minor": 2
}
