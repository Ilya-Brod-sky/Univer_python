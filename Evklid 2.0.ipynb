{
 "cells": [
  {
   "cell_type": "code",
   "execution_count": 5,
   "metadata": {},
   "outputs": [],
   "source": [
    "def algEv1(a, b):\n",
    "    if a<b: a, b=b, a\n",
    "    if b==0: return a\n",
    "    else: return(algEv1(b, a%b))\n",
    "    \n",
    "def algEv2 (a, b):\n",
    "    if a==0:\n",
    "        x=0\n",
    "        y=1\n",
    "        return (x, y)\n",
    "\n",
    "    else:\n",
    "        x1, y1 = algEv2 (int(b%a), a)\n",
    "        y = x1\n",
    "        x = y1 - x1*(b//a)\n",
    "        return(x, y)\n",
    "\n",
    "def algEvk (a, b):\n",
    "    x, y = algEv2(a, b)\n",
    "    d = algEv1(a, b)\n",
    "    print(x, '*', a, '+', y, '*', b, '=', d)\n",
    "    print(x*a, '+', y*b, '=', d)\n",
    "    return (x, y, d)\n",
    "    \n"
   ]
  },
  {
   "cell_type": "code",
   "execution_count": 6,
   "metadata": {},
   "outputs": [
    {
     "name": "stdout",
     "output_type": "stream",
     "text": [
      "-1 * 18 + 1 * 24 = 6\n",
      "-18 + 24 = 6\n"
     ]
    },
    {
     "data": {
      "text/plain": [
       "(-1, 1, 6)"
      ]
     },
     "execution_count": 6,
     "metadata": {},
     "output_type": "execute_result"
    }
   ],
   "source": [
    "x=18\n",
    "y=24\n",
    "algEvk(x, y)"
   ]
  }
 ],
 "metadata": {
  "kernelspec": {
   "display_name": "Python 3",
   "language": "python",
   "name": "python3"
  },
  "language_info": {
   "codemirror_mode": {
    "name": "ipython",
    "version": 3
   },
   "file_extension": ".py",
   "mimetype": "text/x-python",
   "name": "python",
   "nbconvert_exporter": "python",
   "pygments_lexer": "ipython3",
   "version": "3.7.1rc1"
  }
 },
 "nbformat": 4,
 "nbformat_minor": 2
}
