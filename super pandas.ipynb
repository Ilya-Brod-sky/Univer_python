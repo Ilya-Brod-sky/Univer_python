{
 "cells": [
  {
   "cell_type": "code",
   "execution_count": 9,
   "metadata": {},
   "outputs": [],
   "source": [
    "class slist: #it means superlist\n",
    "    \n",
    "#    def __init__(self, values = []):\n",
    "#        self.values = values\n",
    "#        return None\n",
    "    \n",
    "    def __init__(self, values = []):\n",
    "        #if values is None:\n",
    "        #    values = []\n",
    "        #self.values = values\n",
    "        self.values = values.copy()\n",
    "        return None\n",
    "    \n",
    "    #values = []\n",
    "    \n",
    "    def append(self, number: \"int\"):\n",
    "        self.values.append(number)\n",
    "        return None\n",
    "    \n",
    "    def __add__(self, number: \"int\"):\n",
    "        self.values.append(number)\n",
    "        return self\n",
    "    \n",
    "    def __eq__(self, number: \"int\"): # ==, equal\n",
    "        a = []\n",
    "        for i in self.values:\n",
    "            if number == i:\n",
    "                a.append(i)\n",
    "        return a\n",
    "        \n",
    "    def __gt__(self, boundary: \"int\"): # >, greater than\n",
    "        # doesn't work with just:  return __lt__(boundary, self) \n",
    "        a = []\n",
    "        for i in self.values:\n",
    "            if i > boundary:\n",
    "                a.append(i)\n",
    "        return a\n",
    "    \n",
    "    \n",
    "    def __ge__(self, boundary: \"int\"): # >=, greater or equal\n",
    "        a = (self == boundary)\n",
    "        b = (self > boundary)\n",
    "        a.extend(b)\n",
    "        return a\n",
    "    \n",
    "    \n",
    "    def __lt__(self, boundary: \"int\"): # <, less than\n",
    "        #return [e for e in self.values where e > boundary] # why doesn't work?\n",
    "        a = []\n",
    "        for i in self.values:\n",
    "            if i < boundary:\n",
    "                a.append(i)\n",
    "        return a\n",
    "    \n",
    "    \n",
    "    def __le__(self, boundary: \"int\"): # <=, less or equal\n",
    "        a = self < boundary\n",
    "        b = self == boundary\n",
    "        a.extend(b)\n",
    "        return a\n",
    "    \n",
    "    \n",
    "    def __str__(self):\n",
    "        string = \"[\"\n",
    "        string += str(self.values[0])\n",
    "        for i in range(1, len(self.values)):\n",
    "            string += \", \"\n",
    "            string += str(self.values[i])\n",
    "        string += \"]\"\n",
    "        return string\n",
    "    \n",
    "    def __getitem__ (self, a):\n",
    "        return a\n",
    "    "
   ]
  },
  {
   "cell_type": "code",
   "execution_count": 10,
   "metadata": {},
   "outputs": [
    {
     "name": "stdout",
     "output_type": "stream",
     "text": [
      "[5]\n",
      "[5, 0, 1, 2, 3, 4, 5, 6, 7, 8, 9]\n"
     ]
    }
   ],
   "source": [
    "l = slist()\n",
    "l.append(5)\n",
    "print(l)\n",
    "\n",
    "for i in range(10):\n",
    "    k.append(2*i**2-6*i - 10)\n",
    "    l.append(i)\n",
    "print(l)"
   ]
  },
  {
   "cell_type": "code",
   "execution_count": 11,
   "metadata": {},
   "outputs": [
    {
     "name": "stdout",
     "output_type": "stream",
     "text": [
      "[6, 7, 8, 9]\n",
      "[6, 7, 8, 9]\n"
     ]
    }
   ],
   "source": [
    "print(l>5)\n",
    "print(l[l>5])"
   ]
  },
  {
   "cell_type": "code",
   "execution_count": 12,
   "metadata": {},
   "outputs": [
    {
     "name": "stdout",
     "output_type": "stream",
     "text": [
      "[5, 5, 6, 7, 8, 9]\n",
      "[5, 5, 6, 7, 8, 9]\n"
     ]
    }
   ],
   "source": [
    "print(l>=5)\n",
    "print(l[l>=5])"
   ]
  },
  {
   "cell_type": "code",
   "execution_count": 13,
   "metadata": {},
   "outputs": [
    {
     "name": "stdout",
     "output_type": "stream",
     "text": [
      "[0, 1, 2, 3, 4]\n",
      "[0, 1, 2, 3, 4]\n"
     ]
    }
   ],
   "source": [
    "print(l<5)\n",
    "print(l[l<5])"
   ]
  },
  {
   "cell_type": "code",
   "execution_count": 14,
   "metadata": {},
   "outputs": [
    {
     "name": "stdout",
     "output_type": "stream",
     "text": [
      "[0, 1, 2, 3, 4, 5, 5]\n",
      "[0, 1, 2, 3, 4, 5, 5]\n"
     ]
    }
   ],
   "source": [
    "print(l<=5)\n",
    "print(l[l<=5])"
   ]
  },
  {
   "cell_type": "code",
   "execution_count": 15,
   "metadata": {},
   "outputs": [
    {
     "name": "stdout",
     "output_type": "stream",
     "text": [
      "[5, 5]\n",
      "[5, 5]\n"
     ]
    }
   ],
   "source": [
    "print(l == 5)\n",
    "print(l[l == 5])"
   ]
  },
  {
   "cell_type": "code",
   "execution_count": 16,
   "metadata": {},
   "outputs": [
    {
     "name": "stdout",
     "output_type": "stream",
     "text": [
      "[5, 4, 5, 6, 7, 8, 9]\n",
      "[5, 4, 5, 6, 7, 8, 9]\n"
     ]
    }
   ],
   "source": [
    "print(l>3)\n",
    "print(l[l>3])"
   ]
  }
 ],
 "metadata": {
  "kernelspec": {
   "display_name": "Python 3",
   "language": "python",
   "name": "python3"
  },
  "language_info": {
   "codemirror_mode": {
    "name": "ipython",
    "version": 3
   },
   "file_extension": ".py",
   "mimetype": "text/x-python",
   "name": "python",
   "nbconvert_exporter": "python",
   "pygments_lexer": "ipython3",
   "version": "3.7.1rc1"
  }
 },
 "nbformat": 4,
 "nbformat_minor": 2
}
