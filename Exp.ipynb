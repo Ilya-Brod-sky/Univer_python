{
 "cells": [
  {
   "cell_type": "code",
   "execution_count": 6,
   "metadata": {},
   "outputs": [
    {
     "name": "stdout",
     "output_type": "stream",
     "text": [
      "7\n",
      "1096.5844652003686\n"
     ]
    }
   ],
   "source": [
    "import math\n",
    "import numpy\n",
    "import cmath\n",
    "import matplotlib.pyplot\n",
    "\n",
    "x=int(input())\n",
    "def exp_1(x):\n",
    "    #вычисление ф-ции e^x с помощью ряда Тейлора\n",
    "    n=20\n",
    "    s=1\n",
    "    a=1 #числитель\n",
    "    f=1 #знаменатель\n",
    "    for i in range(1, n):\n",
    "        a*=x\n",
    "        f*=i\n",
    "        s+=a/f\n",
    "    return s\n",
    "print(exp_1(x))"
   ]
  },
  {
   "cell_type": "code",
   "execution_count": 5,
   "metadata": {},
   "outputs": [
    {
     "data": {
      "text/plain": [
       "[<matplotlib.lines.Line2D at 0x20011e90b70>]"
      ]
     },
     "execution_count": 5,
     "metadata": {},
     "output_type": "execute_result"
    },
    {
     "data": {
      "image/png": "[encoded data removed]",
      "text/plain": [
       "<Figure size 432x288 with 1 Axes>"
      ]
     },
     "metadata": {
      "needs_background": "light"
     },
     "output_type": "display_data"
    }
   ],
   "source": [
    "%matplotlib inline\n",
    "\n",
    "k = numpy.r_[-16:16:0.01]\n",
    "matplotlib.pyplot.plot(k, numpy.vectorize(exp_1)(k))"
   ]
  }
 ],
 "metadata": {
  "kernelspec": {
   "display_name": "Python 3",
   "language": "python",
   "name": "python3"
  },
  "language_info": {
   "codemirror_mode": {
    "name": "ipython",
    "version": 3
   },
   "file_extension": ".py",
   "mimetype": "text/x-python",
   "name": "python",
   "nbconvert_exporter": "python",
   "pygments_lexer": "ipython3",
   "version": "3.7.1rc1"
  }
 },
 "nbformat": 4,
 "nbformat_minor": 2
}
