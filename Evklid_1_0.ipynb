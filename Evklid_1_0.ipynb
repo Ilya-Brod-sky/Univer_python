{
 "cells": [
  {
   "cell_type": "code",
   "execution_count": 1,
   "metadata": {},
   "outputs": [],
   "source": [
    "def algEv(a, b):\n",
    "    if a < b:\n",
    "        (a, b) = (b, a)\n",
    "    \n",
    "    if b == 0:\n",
    "        return a\n",
    "    else:\n",
    "        return algEv(b, a % b)"
   ]
  },
  {
   "cell_type": "code",
   "execution_count": null,
   "metadata": {},
   "outputs": [],
   "source": [
    "import unittest\n",
    "\n",
    "class Evklid_gcd_test(unittest.TestCase):\n",
    "    prime_numbers = [2, 3, 5, 7, 11, 13, 17, 19, 23, 29, 31, 37, 41, 43, 47, 53, 59, 61, \n",
    "                  67, 71, 73, 79, 83, 89, 97, 101, 103, 107, 109, 113, 127, 131, 137, \n",
    "                  139, 149, 151, 157, 163, 167, 173, 179, 181, 191, 193, 197, 199]\n",
    "    \n",
    "    def test_primes(self):\n",
    "        for i in range(10, 150):\n",
    "            for k in prime_numbers:\n",
    "                if self(i, k) != 1:\n",
    "                    return False\n",
    "        return True\n",
    "                \n",
    "    def test_n(self):\n",
    "        for n in range(1, 20):\n",
    "            for i in range(1, 150):\n",
    "                if self(n, i) % n != 0 or self(n, i) % i != 0: \n",
    "                    return False\n",
    "                else:\n",
    "                    return True"
   ]
  }
 ],
 "metadata": {
  "kernelspec": {
   "display_name": "Python 3",
   "language": "python",
   "name": "python3"
  },
  "language_info": {
   "codemirror_mode": {
    "name": "ipython",
    "version": 3
   },
   "file_extension": ".py",
   "mimetype": "text/x-python",
   "name": "python",
   "nbconvert_exporter": "python",
   "pygments_lexer": "ipython3",
   "version": "3.7.1rc1"
  }
 },
 "nbformat": 4,
 "nbformat_minor": 2
}
