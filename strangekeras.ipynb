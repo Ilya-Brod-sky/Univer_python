{
 "cells": [
  {
   "cell_type": "code",
   "execution_count": 9,
   "metadata": {},
   "outputs": [],
   "source": [
    "import os\n",
    "import math\n",
    "import numpy as np\n",
    "from keras.models import Model\n",
    "from keras.layers import Dense, Input\n",
    "from keras.utils import np_utils"
   ]
  },
  {
   "cell_type": "code",
   "execution_count": 36,
   "metadata": {},
   "outputs": [],
   "source": [
    "#input data\n",
    "\n",
    "#np.random.seed(1)\n",
    "#X = np.random.random((150, 2)) * 4.0 - 2.0\n",
    "\n",
    "#X_ = np.random.random(-2.0, 2, (50, 2))\n",
    "\n",
    "M = np.zeros(shape=(1300, 2))\n",
    "\n",
    "def sircle(x, r):\n",
    "    return math.sqrt(-x*x+r)\n",
    "\n",
    "i = 0\n",
    "for x in np.linspace(-2, 2, 20):\n",
    "    for y in np.linspace(-2, 2, 20):\n",
    "        M[i]=[x, y]\n",
    "        i+=1\n",
    "\n",
    "for radius in (1.1, 0.999, 0.9, 1.0004):\n",
    "    for x in np.linspace(-radius**(0.5)+0.0001, radius**(0.5)-0.0001, 100):\n",
    "        #print(x, radius)\n",
    "        y = sircle(x, radius)\n",
    "        M[i]=[x, y]\n",
    "        i+=1\n",
    "        y = -y\n",
    "        M[i]=[x, y]\n",
    "        i+=1\n",
    "\n",
    "# for x in np.linspace(-0.999, 0.999, 100):\n",
    "#     y = sircle(x, 0.999)\n",
    "#     M[i]=[x, y]\n",
    "#     i+=1\n",
    "#     y = -y\n",
    "#     M[i]=[x, y]\n",
    "#     i+=1\n",
    "    \n",
    "# for x in np.linspace(-1.0004, 1.0004, 100):\n",
    "#     for r in (1.0004, 1.1):\n",
    "#         y = sircle(x, r)\n",
    "#         M[i]=[x, y]\n",
    "#         i+=1\n",
    "#         y = -y\n",
    "#         M[i]=[x, y]\n",
    "#         i+=1\n",
    "    \n",
    "\n",
    "Y = [\n",
    "    1 if x ** 2 + y ** 2 <= 1 else 0\n",
    "    for [x, y] in M\n",
    "]"
   ]
  },
  {
   "cell_type": "code",
   "execution_count": 39,
   "metadata": {},
   "outputs": [
    {
     "name": "stderr",
     "output_type": "stream",
     "text": [
      "c:\\python37\\lib\\site-packages\\ipykernel_launcher.py:5: UserWarning: Update your `Model` call to the Keras 2 API: `Model(inputs=Tensor(\"in..., outputs=Tensor(\"de...)`\n",
      "  \"\"\"\n"
     ]
    }
   ],
   "source": [
    "l0 = Input(shape=(2,))\n",
    "l1 = Dense(6, activation='sigmoid', use_bias=True)(l0)\n",
    "l2 = Dense(1, activation='sigmoid', use_bias=False)(l1)\n",
    "\n",
    "model = Model(input=l0, output=l2)\n",
    "\n",
    "model.compile(\n",
    "    loss='mean_squared_error',\n",
    "    optimizer='adam',\n",
    "    metrics=['accuracy']\n",
    ")"
   ]
  },
  {
   "cell_type": "code",
   "execution_count": 40,
   "metadata": {},
   "outputs": [],
   "source": [
    "if os.path.isfile(\"n1_smart_duckling.h5\"):\n",
    "    model.load_weights(\"n1_smart_duckling.h5\")\n",
    "else:\n",
    "    model.fit(\n",
    "        M, Y,\n",
    "        epochs=10000,\n",
    "        verbose=False\n",
    "    )\n",
    "    model.save(\"n1_smart_duckling.h5\")"
   ]
  },
  {
   "cell_type": "code",
   "execution_count": 41,
   "metadata": {},
   "outputs": [
    {
     "data": {
      "image/png": "[encoded data removed]",
      "text/plain": [
       "<Figure size 432x288 with 1 Axes>"
      ]
     },
     "metadata": {
      "needs_background": "light"
     },
     "output_type": "display_data"
    }
   ],
   "source": [
    "%matplotlib inline\n",
    "\n",
    "import matplotlib.pyplot as plt\n",
    "\n",
    "plt.axis('equal')\n",
    "\n",
    "c = np.r_[-2:2:0.1]\n",
    "\n",
    "# https://stackoverflow.com/a/11144716/539470 =)\n",
    "MY = np.transpose([np.tile(c, len(c)), np.repeat(c, len(c))])\n",
    "\n",
    "Z = model.predict(MY)\n",
    "\n",
    "for (x, y), z in zip(MY, Z):\n",
    "    plt.scatter(x, y, c='red' if z[0] >= 0.5 else 'green')\n",
    "\n",
    "plt.show()"
   ]
  },
  {
   "cell_type": "code",
   "execution_count": 42,
   "metadata": {},
   "outputs": [
    {
     "data": {
      "text/plain": [
       "<function matplotlib.pyplot.show(*args, **kw)>"
      ]
     },
     "execution_count": 42,
     "metadata": {},
     "output_type": "execute_result"
    },
    {
     "data": {
      "image/png": "[encoded data removed]",
      "text/plain": [
       "<Figure size 432x288 with 1 Axes>"
      ]
     },
     "metadata": {
      "needs_background": "light"
     },
     "output_type": "display_data"
    }
   ],
   "source": [
    "def saturate(v):\n",
    "    return min(1, max(0, v))\n",
    "\n",
    "plt.axis('equal')\n",
    "\n",
    "for (x, y), z in zip(MY, Z):\n",
    "    plt.scatter(x, y, c=[(1, 1-saturate(z[0]), 1-saturate(z[0]))])\n",
    "\n",
    "plt.show"
   ]
  },
  {
   "cell_type": "code",
   "execution_count": 38,
   "metadata": {},
   "outputs": [
    {
     "data": {
      "image/png": "[encoded data removed]",
      "text/plain": [
       "<Figure size 432x288 with 1 Axes>"
      ]
     },
     "metadata": {
      "needs_background": "light"
     },
     "output_type": "display_data"
    }
   ],
   "source": [
    "%matplotlib inline\n",
    "\n",
    "import matplotlib.pyplot as plt\n",
    "\n",
    "plt.axis('equal')\n",
    "\n",
    "for [x, y] in M:\n",
    "    plt.scatter(x, y, c='red')\n",
    "\n",
    "plt.show()"
   ]
  }
 ],
 "metadata": {
  "kernelspec": {
   "display_name": "Python 3",
   "language": "python",
   "name": "python3"
  },
  "language_info": {
   "codemirror_mode": {
    "name": "ipython",
    "version": 3
   },
   "file_extension": ".py",
   "mimetype": "text/x-python",
   "name": "python",
   "nbconvert_exporter": "python",
   "pygments_lexer": "ipython3",
   "version": "3.7.1rc1"
  }
 },
 "nbformat": 4,
 "nbformat_minor": 2
}
