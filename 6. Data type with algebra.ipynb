{
 "cells": [
  {
   "cell_type": "markdown",
   "metadata": {},
   "source": [
    "Поле из четырёх элементов,\n",
    "[поле Галуа](http://pmpu.ru/vf4/gruppe/galois), кажется\n",
    "\n",
    "|+  |0  |1  |2  |3  |\n",
    "|---|---|---|---|---|\n",
    "|0  |0  |1  |2  |3\n",
    "|1  |1  |2  |3  |0\n",
    "|2  |2  |3  |0  |1\n",
    "|3  |3  |0  |1  |2\n",
    "\n",
    "|m  |0  |1  |2  |3  |\n",
    "|---|---|---|---|---|\n",
    "|0  |0  |0  |0  |0\n",
    "|1  |0  |1  |2  |3\n",
    "|2  |0  |2  |3  |1\n",
    "|3  |0  |3  |1  |2\n",
    "\n",
    "\n"
   ]
  },
  {
   "cell_type": "code",
   "execution_count": 1,
   "metadata": {},
   "outputs": [],
   "source": [
    "class shield_4:\n",
    "    \n",
    "    def __init__(self, value):\n",
    "        if not 0 <= value <= 3:\n",
    "            print(\"use only 0, 1, 2, or 3\") #because we have no elements more\n",
    "        else:\n",
    "            self.value = value\n",
    "    \n",
    "    def __add__(self, new):\n",
    "        res = self.value + new.value\n",
    "        if res < 4 : \n",
    "            return shield_4(res)\n",
    "        else:\n",
    "            return shield_4(res-4)\n",
    "        \n",
    "    def __mul__(self, new):\n",
    "        res = self.value * new.value\n",
    "        if res < 4 : \n",
    "            return shield_4(res)\n",
    "        elif res == 4:\n",
    "            return shield_4(3) #look at the table\n",
    "        elif res == 6:\n",
    "            return shield_4(1)\n",
    "        elif res == 9:\n",
    "            return shield_4(2)\n",
    "        \n",
    "    def __str__(self):\n",
    "        return str(self.value) #now method print works well\n"
   ]
  },
  {
   "cell_type": "code",
   "execution_count": 11,
   "metadata": {},
   "outputs": [
    {
     "name": "stdout",
     "output_type": "stream",
     "text": [
      "+ 0 1 2 3\n",
      "0 0 1 2 3 \n",
      "1 1 2 3 0 \n",
      "2 2 3 0 1 \n",
      "3 3 0 1 2 \n",
      "\n",
      "* 0 1 2 3\n",
      "0 0 0 0 0 \n",
      "1 0 1 2 3 \n",
      "2 0 2 3 1 \n",
      "3 0 3 1 2 \n"
     ]
    }
   ],
   "source": [
    "a = [shield_4(i) for i in range(4)]\n",
    "\n",
    "print('+', a[0], a[1], a[2], a[3])    \n",
    "for i in range(4):\n",
    "    print(a[i], end = ' ')\n",
    "    for j in range(4):\n",
    "        print(a[i]+a[j], end = ' ')\n",
    "    print() #new line\n",
    "    \n",
    "print()\n",
    "\n",
    "print('*', a[0], a[1], a[2], a[3])    \n",
    "for i in range(4):\n",
    "    print(a[i], end = ' ')\n",
    "    for j in range(4):\n",
    "        print(a[i]*a[j], end = ' ')\n",
    "    print() "
   ]
  }
 ],
 "metadata": {
  "kernelspec": {
   "display_name": "Python 3",
   "language": "python",
   "name": "python3"
  },
  "language_info": {
   "codemirror_mode": {
    "name": "ipython",
    "version": 3
   },
   "file_extension": ".py",
   "mimetype": "text/x-python",
   "name": "python",
   "nbconvert_exporter": "python",
   "pygments_lexer": "ipython3",
   "version": "3.7.1rc1"
  }
 },
 "nbformat": 4,
 "nbformat_minor": 2
}
