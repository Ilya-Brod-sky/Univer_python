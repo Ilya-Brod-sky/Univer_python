{
 "cells": [
  {
   "cell_type": "code",
   "execution_count": null,
   "metadata": {},
   "outputs": [],
   "source": [
    "def prime(a):\n",
    "    # 1 and 2 are strange numbers, so let's think they are prime\n",
    "    \n",
    "    if a == 2:\n",
    "        return True\n",
    "    p = 1\n",
    "    \n",
    "    while p <= a**0.5:\n",
    "        p += 1\n",
    "        if a % p == 0:\n",
    "            return False\n",
    "   \n",
    "    return True"
   ]
  },
  {
   "cell_type": "code",
   "execution_count": 5,
   "metadata": {},
   "outputs": [],
   "source": [
    "import unittest\n",
    "\n",
    "class prime_numbers_test(unittest.TestCase):\n",
    "\n",
    "    prime_list = [2, 3, 5, 7, 11, 13, 17, 19, 23, 29, 31, 37, 41, 43, 47, 53, 59, 61, \n",
    "                  67, 71, 73, 79, 83, 89, 97, 101, 103, 107, 109, 113, 127, 131, 137, \n",
    "                  139, 149, 151, 157, 163, 167, 173, 179, 181, 191, 193, 197, 199]\n",
    "    \n",
    "    def test_1(self):\n",
    "        self.accertTrue(1) #let's think 1 is a prime number\n",
    "    \n",
    "    def test_2_210(self):\n",
    "        for i in range(2, 211):\n",
    "            if i in prime_list: self.accertTrue(i)\n",
    "            else: self.accertFalse(i)\n",
    "  "
   ]
  }
 ],
 "metadata": {
  "kernelspec": {
   "display_name": "Python 3",
   "language": "python",
   "name": "python3"
  },
  "language_info": {
   "codemirror_mode": {
    "name": "ipython",
    "version": 3
   },
   "file_extension": ".py",
   "mimetype": "text/x-python",
   "name": "python",
   "nbconvert_exporter": "python",
   "pygments_lexer": "ipython3",
   "version": "3.7.1rc1"
  }
 },
 "nbformat": 4,
 "nbformat_minor": 2
}
