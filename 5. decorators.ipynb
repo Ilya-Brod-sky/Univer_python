{
 "cells": [
  {
   "cell_type": "code",
   "execution_count": 3,
   "metadata": {},
   "outputs": [
    {
     "name": "stdout",
     "output_type": "stream",
     "text": [
      "2\n",
      "5\n",
      "16\n"
     ]
    }
   ],
   "source": [
    "def repeat(n):\n",
    "    def f_func(func):\n",
    "        def rep(arg):\n",
    "            res = arg\n",
    "            for i in range(n):\n",
    "                res = func(res)\n",
    "            return res\n",
    "        return rep\n",
    "    return f_func\n",
    "\n",
    "s = int(input())\n",
    "\n",
    "@repeat(s)\n",
    "def plus_1(x):\n",
    "    return x + 1\n",
    "\n",
    "\n",
    "@repeat(s)\n",
    "def mul_2(x):\n",
    "    return x * 2\n",
    "\n",
    "print(plus_1(3))\n",
    "print(mul_2(4))"
   ]
  }
 ],
 "metadata": {
  "kernelspec": {
   "display_name": "Python 3",
   "language": "python",
   "name": "python3"
  },
  "language_info": {
   "codemirror_mode": {
    "name": "ipython",
    "version": 3
   },
   "file_extension": ".py",
   "mimetype": "text/x-python",
   "name": "python",
   "nbconvert_exporter": "python",
   "pygments_lexer": "ipython3",
   "version": "3.7.1rc1"
  }
 },
 "nbformat": 4,
 "nbformat_minor": 2
}
