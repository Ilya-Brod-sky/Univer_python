{
 "cells": [
  {
   "cell_type": "code",
   "execution_count": 23,
   "metadata": {},
   "outputs": [
    {
     "data": {
      "image/png": "[encoded data removed]",
      "text/plain": [
       "<Figure size 432x288 with 1 Axes>"
      ]
     },
     "metadata": {
      "needs_background": "light"
     },
     "output_type": "display_data"
    }
   ],
   "source": [
    "%matplotlib inline\n",
    "\n",
    "import numpy\n",
    "import numpy.linalg\n",
    "import matplotlib.pyplot as plt\n",
    "\n",
    "G = 50.0  # гравитационная постоянная\n",
    "collision_distance = 3.0  # всё-таки это не точки\n",
    "model_delta_t = 0.01\n",
    "time_to_model = 10\n",
    "\n",
    "class MaterialPoint:\n",
    "    \"\"\"Материальная точка, движущаяся по двумерной плоскости\"\"\"\n",
    "    \n",
    "    def __init__(self, mass: 'float', position: 'numpy.array', velocity: 'numpy.array'):\n",
    "        # Аннотации типов по желанию, но могут помочь IDE и компилятору, когда таковые имеются\n",
    "        self.mass = mass\n",
    "        self.position = position\n",
    "        self.velocity = velocity\n",
    "    \n",
    "    @staticmethod\n",
    "    def gravity_dencity(dist: 'float')-> 'float':\n",
    "        if dist > collision_distance:\n",
    "            return G / dist\n",
    "        else:\n",
    "            return -G / dist ** 2 # будем считать, что отскакивают точки друг от друга резко, но стараться не допускать этого\n",
    "    \n",
    "    def force_induced_by_other(self, other: 'MaterialPoint')-> 'numpy.array':\n",
    "        if self == other:\n",
    "            return numpy.array([0, 0])\n",
    "        delta_p = other.position - self.position\n",
    "        distance = numpy.linalg.norm(delta_p)  # Евклидова норма (по теореме Пифагора)\n",
    "        force_direction = delta_p / distance\n",
    "        # @staticmethod позволяет вызвать статический метод от self, не зная точного типа\n",
    "        force = force_direction * self.mass * other.mass * self.gravity_dencity(distance)\n",
    "        return force\n",
    "    \n",
    "    def advance(self):\n",
    "        # print(self.position)\n",
    "        self.position += self.velocity * model_delta_t\n",
    "\n",
    "    def apply_force(self, force: 'numpy.array'):\n",
    "        # print(force)\n",
    "        self.velocity += force * model_delta_t / self.mass\n",
    "\n",
    "\n",
    "centrum = MaterialPoint(500.0, numpy.array([0.0, 0.0]), numpy.array([0.0, 0.0]))\n",
    "\n",
    "points = [\n",
    "    MaterialPoint(10.0, numpy.array([50.0, 0.0]), numpy.array([8.0, 25.0])),\n",
    "    MaterialPoint(10.0, numpy.array([40.0, 40.0]), numpy.array([24.0, 4.0])),\n",
    "    MaterialPoint(10.0, numpy.array([51.0, -40.0]), numpy.array([9.0, 3.0]))\n",
    "]\n",
    "\n",
    "def model_step():\n",
    "    for point1 in points:\n",
    "        point1.apply_force(point1.force_induced_by_other(centrum))\n",
    "        for point2 in points:\n",
    "            point1.apply_force(point1.force_induced_by_other(point2))\n",
    "    for point in points:\n",
    "        point.advance()\n",
    "        \n",
    "coordinates: 'list[list[numpy.array]]' = []\n",
    "\n",
    "for stepn in range(int(time_to_model / model_delta_t)):\n",
    "    coordinates.append([\n",
    "        p.position.copy() for p in points\n",
    "    ])\n",
    "    model_step()\n",
    "    \n",
    "coordinates = list(map(list, zip(*coordinates)))\n",
    "    \n",
    "c = plt.Circle((0, 0), 2, color='b')\n",
    "fig = plt.figure()\n",
    "ax = fig.add_subplot(1, 1, 1)\n",
    "ax.set_aspect('equal')\n",
    "ax.add_patch(c)\n",
    "\n",
    "\n",
    "for p in coordinates:\n",
    "    plt.plot(\n",
    "    *[[v[c] for v in p] for c in [0, 1]]\n",
    "    )\n",
    "\n",
    "plt.show()"
   ]
  }
 ],
 "metadata": {
  "kernelspec": {
   "display_name": "Python 3",
   "language": "python",
   "name": "python3"
  },
  "language_info": {
   "codemirror_mode": {
    "name": "ipython",
    "version": 3
   },
   "file_extension": ".py",
   "mimetype": "text/x-python",
   "name": "python",
   "nbconvert_exporter": "python",
   "pygments_lexer": "ipython3",
   "version": "3.7.1rc1"
  }
 },
 "nbformat": 4,
 "nbformat_minor": 2
}
